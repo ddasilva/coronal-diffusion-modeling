{
 "cells": [
  {
   "cell_type": "markdown",
   "id": "966e3871-0927-445c-b7d3-fad27d017795",
   "metadata": {},
   "source": [
    "# Reference Images\n",
    "This notebook makes references plots of the field lines for solar min and solar max from the test set, to illustrate examples of the field structures."
   ]
  },
  {
   "cell_type": "code",
   "execution_count": 1,
   "id": "a3980040-9c15-4894-bf4f-e047600bcb05",
   "metadata": {},
   "outputs": [
    {
     "name": "stderr",
     "output_type": "stream",
     "text": [
      "/home/dedasilv/.micromamba/envs/coronal-diffusion-modeling/lib/python3.11/site-packages/ai/__init__.py:1: UserWarning: pkg_resources is deprecated as an API. See https://setuptools.pypa.io/en/latest/pkg_resources.html. The pkg_resources package is slated for removal as early as 2025-11-30. Refrain from using this package or pin to Setuptools<81.\n",
      "  import pkg_resources\n"
     ]
    }
   ],
   "source": [
    "import os\n",
    "import sys\n",
    "sys.path.append('..')\n",
    "\n",
    "from astropy.io import fits\n",
    "\n",
    "import coronal_diffusion.visualization_tools as vt\n",
    "\n",
    "import config"
   ]
  },
  {
   "cell_type": "code",
   "execution_count": 2,
   "id": "c975a5d8-17b9-4f3a-8baf-eaacc447d7ff",
   "metadata": {},
   "outputs": [
    {
     "name": "stdout",
     "output_type": "stream",
     "text": [
      "Current directory is: /home/dedasilv/coronal-diffusion-modeling\n"
     ]
    }
   ],
   "source": [
    "os.chdir('..')\n",
    "print('Current directory is:', os.getcwd())"
   ]
  },
  {
   "cell_type": "code",
   "execution_count": 3,
   "id": "4bd5530d-0987-4a0c-b963-d99468679813",
   "metadata": {},
   "outputs": [],
   "source": [
    "def load_coeffs(wsa_path):\n",
    "    fits_file = fits.open(wsa_path)\n",
    "    G, H = fits_file[3].data.copy()\n",
    "    fits_file.close()\n",
    "\n",
    "    G = G.T  # written by fortran\n",
    "    H = H.T\n",
    "    \n",
    "    return G, H"
   ]
  },
  {
   "cell_type": "code",
   "execution_count": 4,
   "id": "9ffdeadb-3c2d-42d8-8152-dfc4b4d90105",
   "metadata": {},
   "outputs": [],
   "source": [
    "def make_plot(wsa_path, image_path):\n",
    "    G, H = load_coeffs(wsa_path)\n",
    "\n",
    "    vis = vt.SHVisualizer(G, H, normalization='schmidt')\n",
    "    fig = vis.visualize_field_lines(r=1.1, grid_density=40)\n",
    "\n",
    "    os.makedirs(os.path.dirname(image_path), exist_ok=True)\n",
    "    fig.write_image(image_path, width=800, height=600)   \n",
    "\n",
    "    print(f'Wrote {image_path}')\n"
   ]
  },
  {
   "cell_type": "code",
   "execution_count": 5,
   "id": "d4f86f59-e9a2-4d68-ae54-f0036a938c50",
   "metadata": {},
   "outputs": [
    {
     "name": "stdout",
     "output_type": "stream",
     "text": [
      "Wrote plots/reference/reference_min.png\n",
      "Wrote plots/reference/reference_max.png\n"
     ]
    }
   ],
   "source": [
    "ref_min_path = '/data/dedasilv/coronal-diffusion-modeling/CoronalFieldExtrapolation/CoronalFieldExtrapolation_test/wsa_201910150800R000_ahmi.fits'\n",
    "ref_max_path = '/data/dedasilv/coronal-diffusion-modeling/CoronalFieldExtrapolation/CoronalFieldExtrapolation_test/wsa_201410110800R001_ahmi.fits'\n",
    "\n",
    "make_plot(\n",
    "    ref_min_path,\n",
    "    'plots/reference/reference_min.png'\n",
    ")\n",
    "\n",
    "make_plot(\n",
    "    ref_max_path,\n",
    "    'plots/reference/reference_max.png'\n",
    ")"
   ]
  }
 ],
 "metadata": {
  "kernelspec": {
   "display_name": "Python 3 (ipykernel)",
   "language": "python",
   "name": "python3"
  },
  "language_info": {
   "codemirror_mode": {
    "name": "ipython",
    "version": 3
   },
   "file_extension": ".py",
   "mimetype": "text/x-python",
   "name": "python",
   "nbconvert_exporter": "python",
   "pygments_lexer": "ipython3",
   "version": "3.11.13"
  }
 },
 "nbformat": 4,
 "nbformat_minor": 5
}
