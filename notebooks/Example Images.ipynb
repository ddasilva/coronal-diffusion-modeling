{
 "cells": [
  {
   "cell_type": "code",
   "execution_count": 1,
   "id": "dd40e0dd-4c53-4264-b1a1-dd42c44c818c",
   "metadata": {},
   "outputs": [
    {
     "name": "stderr",
     "output_type": "stream",
     "text": [
      "/home/dedasilv/.micromamba/envs/coronal-diffusion-modeling/lib/python3.11/site-packages/ai/__init__.py:1: UserWarning: pkg_resources is deprecated as an API. See https://setuptools.pypa.io/en/latest/pkg_resources.html. The pkg_resources package is slated for removal as early as 2025-11-30. Refrain from using this package or pin to Setuptools<81.\n",
      "  import pkg_resources\n"
     ]
    }
   ],
   "source": [
    "import os\n",
    "import sys\n",
    "\n",
    "sys.path.append('..')\n",
    "os.environ['CUBLAS_WORKSPACE_CONFIG'] = ':4096:8'\n",
    "\n",
    "import torch\n",
    "import numpy as np\n",
    "import random\n",
    "import pylab as plt\n",
    "import tqdm\n",
    "\n",
    "from coronal_diffusion import dataset\n",
    "from coronal_diffusion import visualization_tools as vt\n",
    "from coronal_diffusion import sampler\n",
    "\n",
    "import config"
   ]
  },
  {
   "cell_type": "code",
   "execution_count": 2,
   "id": "25672626-17fc-4284-8f02-d06e1fc9ad22",
   "metadata": {},
   "outputs": [],
   "source": [
    "def set_seeds(seed):\n",
    "    torch.use_deterministic_algorithms(True)\n",
    "    random.seed(seed)\n",
    "    np.random.seed(seed)\n",
    "    torch.manual_seed(seed)"
   ]
  },
  {
   "cell_type": "code",
   "execution_count": 3,
   "id": "9eb64060-b355-4a4f-a4d4-f27246d12f3f",
   "metadata": {},
   "outputs": [
    {
     "name": "stdout",
     "output_type": "stream",
     "text": [
      "Current directory is: /home/dedasilv/coronal-diffusion-modeling\n"
     ]
    }
   ],
   "source": [
    "os.chdir('..')\n",
    "print('Current directory is:', os.getcwd())"
   ]
  },
  {
   "cell_type": "code",
   "execution_count": 12,
   "id": "666ba6bc-96fa-42c7-9e1c-ad5f92c4bba6",
   "metadata": {},
   "outputs": [],
   "source": [
    "plot_dir = 'plots/example-samples/'\n",
    "weights_file = \"checkpoints/experiment14-refactor-alldata_2.pth\"\n",
    "tasks = [\n",
    "    (0, 'min', config.seed_helper_min, 2),\n",
    "    (1, 'max', config.seed_helper_max, 0)\n",
    "]\n",
    "\n",
    "!rm -rf $plot_dir\n",
    "!mkdir -p $plot_dir"
   ]
  },
  {
   "cell_type": "code",
   "execution_count": 13,
   "id": "d56dcf2f-ac96-4096-a1ca-d7fdc4b43f66",
   "metadata": {},
   "outputs": [
    {
     "name": "stdout",
     "output_type": "stream",
     "text": [
      "min\n",
      "max\n"
     ]
    }
   ],
   "source": [
    "for radio_flux, tag, seed_helper, seed in tasks:\n",
    "    set_seeds(seed)\n",
    "\n",
    "    G, H = sampler.sample(\n",
    "        weights_file=weights_file,\n",
    "        radio_flux=radio_flux,\n",
    "        method='ddim',\n",
    "        seed_helper=seed_helper,\n",
    "    )\n",
    "\n",
    "    sh = vt.SHVisualizer(G, H)\n",
    "    fig = sh.visualize_field_lines(r=1.1, grid_density=40)\n",
    "    fig.write_image(f'{plot_dir}/example_{tag}.png', width=800, height=600)\n",
    "    fig.data = []\n",
    "\n",
    "    print(tag)"
   ]
  }
 ],
 "metadata": {
  "kernelspec": {
   "display_name": "Python 3 (ipykernel)",
   "language": "python",
   "name": "python3"
  },
  "language_info": {
   "codemirror_mode": {
    "name": "ipython",
    "version": 3
   },
   "file_extension": ".py",
   "mimetype": "text/x-python",
   "name": "python",
   "nbconvert_exporter": "python",
   "pygments_lexer": "ipython3",
   "version": "3.11.13"
  }
 },
 "nbformat": 4,
 "nbformat_minor": 5
}
