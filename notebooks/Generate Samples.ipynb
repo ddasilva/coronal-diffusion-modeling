{
 "cells": [
  {
   "cell_type": "markdown",
   "id": "8e7c63e9-9c67-4ac4-987b-cc612c9d3aae",
   "metadata": {},
   "source": [
    "# Generate Samples\n",
    "This notebook genertes 100 samples of solar minimum and solar maximum, and saves in the `plots/samples` directory in the main repository. Fixed seeds are used for reproducability. "
   ]
  },
  {
   "cell_type": "code",
   "execution_count": null,
   "id": "d0e30f9c",
   "metadata": {},
   "outputs": [],
   "source": [
    "import os\n",
    "import sys\n",
    "\n",
    "sys.path.append('..')\n",
    "os.environ['CUBLAS_WORKSPACE_CONFIG'] = ':4096:8'\n",
    "\n",
    "import torch\n",
    "import numpy as np\n",
    "import random\n",
    "import pylab as plt\n",
    "import tqdm\n",
    "\n",
    "from coronal_diffusion import dataset\n",
    "from coronal_diffusion import visualization_tools as vt\n",
    "from coronal_diffusion import sampler\n",
    "\n",
    "import config"
   ]
  },
  {
   "cell_type": "code",
   "execution_count": null,
   "id": "600cccff-0b45-4487-af9a-619b1e3256b5",
   "metadata": {},
   "outputs": [],
   "source": [
    "def set_seeds(seed):\n",
    "    torch.use_deterministic_algorithms(True)\n",
    "    random.seed(seed)\n",
    "    np.random.seed(seed)\n",
    "    torch.manual_seed(seed)"
   ]
  },
  {
   "cell_type": "code",
   "execution_count": null,
   "id": "b73c6e89-2b39-45ea-9168-e3d459b6160c",
   "metadata": {},
   "outputs": [],
   "source": [
    "os.chdir('..')\n",
    "print('Current directory is:', os.getcwd())"
   ]
  },
  {
   "cell_type": "code",
   "execution_count": null,
   "id": "b9c86459-3319-4209-af35-f048bb4ddf14",
   "metadata": {},
   "outputs": [],
   "source": [
    "plot_dir = 'plots/samples/'\n",
    "weights_file = \"checkpoints/experiment14-refactor-alldata_2.pth\"\n",
    "nitems = 100\n",
    "tasks = [(0, 'min', config.seed_helper_min),\n",
    "         (1, 'max', config.seed_helper_max)]\n",
    "\n",
    "!rm -rf $plot_dir\n",
    "!mkdir -p $plot_dir"
   ]
  },
  {
   "cell_type": "code",
   "execution_count": null,
   "id": "77d28d9a",
   "metadata": {},
   "outputs": [],
   "source": [
    "for radio_flux, tag, seed_helper in tasks:\n",
    "    for i in tqdm.tqdm(list(range(1, nitems + 1)), desc=f'Solar {tag}'):\n",
    "        set_seeds(i)\n",
    "        G, H = sampler.sample(weights_file=weights_file, radio_flux=radio_flux, method='ddim', seed_helper=seed_helper)\n",
    "        sh = vt.SHVisualizer(G, H)\n",
    "        fig = sh.visualize_field_lines(r=1.1, grid_density=20)\n",
    "        fig.write_image(f'{plot_dir}/{tag}_seed{i}.png', width=800, height=600)\n",
    "        fig.data = []"
   ]
  },
  {
   "cell_type": "code",
   "execution_count": null,
   "id": "972ad22a-cce2-4250-a41e-42ca09435d83",
   "metadata": {},
   "outputs": [],
   "source": []
  }
 ],
 "metadata": {
  "kernelspec": {
   "display_name": "Python 3 (ipykernel)",
   "language": "python",
   "name": "python3"
  },
  "language_info": {
   "codemirror_mode": {
    "name": "ipython",
    "version": 3
   },
   "file_extension": ".py",
   "mimetype": "text/x-python",
   "name": "python",
   "nbconvert_exporter": "python",
   "pygments_lexer": "ipython3",
   "version": "3.11.13"
  }
 },
 "nbformat": 4,
 "nbformat_minor": 5
}
