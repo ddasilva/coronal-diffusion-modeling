{
 "cells": [
  {
   "cell_type": "markdown",
   "id": "6da456e6-e886-40fa-8a5b-44500e64802c",
   "metadata": {},
   "source": [
    "# Generate Transition Plots\n",
    "This notebooks saves a whole history of generative reverse diffusion for solar min and solar max casas, and saves a field line plot for each step. Fixed seeds are used for reproducability."
   ]
  },
  {
   "cell_type": "code",
   "execution_count": 1,
   "id": "2419df93-ae50-44f9-acaa-83da869cf12d",
   "metadata": {},
   "outputs": [
    {
     "name": "stderr",
     "output_type": "stream",
     "text": [
      "/home/dedasilv/.micromamba/envs/coronal-diffusion-modeling/lib/python3.11/site-packages/ai/__init__.py:1: UserWarning: pkg_resources is deprecated as an API. See https://setuptools.pypa.io/en/latest/pkg_resources.html. The pkg_resources package is slated for removal as early as 2025-11-30. Refrain from using this package or pin to Setuptools<81.\n",
      "  import pkg_resources\n"
     ]
    }
   ],
   "source": [
    "import os\n",
    "import sys\n",
    "\n",
    "sys.path.append('..')\n",
    "os.environ['CUBLAS_WORKSPACE_CONFIG'] = ':4096:8'\n",
    "\n",
    "import torch\n",
    "import numpy as np\n",
    "import random\n",
    "import pylab as plt\n",
    "import tqdm\n",
    "\n",
    "from coronal_diffusion import dataset\n",
    "from coronal_diffusion import visualization_tools as vt\n",
    "from coronal_diffusion import sampler\n",
    "\n",
    "import config"
   ]
  },
  {
   "cell_type": "code",
   "execution_count": 2,
   "id": "0c50a1bf-5955-457f-a1c7-1af72dced146",
   "metadata": {},
   "outputs": [],
   "source": [
    "def set_seeds(seed):\n",
    "    torch.use_deterministic_algorithms(True)\n",
    "    random.seed(seed)\n",
    "    np.random.seed(seed)\n",
    "    torch.manual_seed(seed)"
   ]
  },
  {
   "cell_type": "code",
   "execution_count": 3,
   "id": "ea9ed79d-e311-4701-92d2-3507b52d25f4",
   "metadata": {},
   "outputs": [
    {
     "name": "stdout",
     "output_type": "stream",
     "text": [
      "Current directory is: /home/dedasilv/coronal-diffusion-modeling\n"
     ]
    }
   ],
   "source": [
    "os.chdir('..')\n",
    "print('Current directory is:', os.getcwd())"
   ]
  },
  {
   "cell_type": "code",
   "execution_count": 4,
   "id": "09b4f636-cbf4-430a-aa19-30fa4c8d34b8",
   "metadata": {},
   "outputs": [],
   "source": [
    "plot_dir = 'plots/transition/'\n",
    "weights_file = \"checkpoints/experiment14-refactor-alldata_2.pth\"\n",
    "tasks = [(0, 'min', config.seed_helper_min, 829),\n",
    "         (1, 'max', config.seed_helper_max, 829)]\n",
    "\n",
    "!rm -rf $plot_dir\n",
    "!mkdir -p $plot_dir"
   ]
  },
  {
   "cell_type": "code",
   "execution_count": 5,
   "id": "64fa0767-a696-449f-ad4b-c96c7c5d8f88",
   "metadata": {},
   "outputs": [],
   "source": [
    "saved_history = {}\n",
    "\n",
    "for radio_flux, tag, seed_helper, seed in tasks:\n",
    "    set_seeds(seed)\n",
    "\n",
    "    saved_history[tag] = sampler.sample(\n",
    "        weights_file=weights_file,\n",
    "        radio_flux=radio_flux,\n",
    "        method='ddim',\n",
    "        seed_helper=seed_helper,\n",
    "        return_history=True\n",
    "    )"
   ]
  },
  {
   "cell_type": "code",
   "execution_count": 6,
   "id": "77cca1fa-aad7-4aec-9429-7fe4b69833a1",
   "metadata": {},
   "outputs": [
    {
     "data": {
      "text/plain": [
       "21"
      ]
     },
     "execution_count": 6,
     "metadata": {},
     "output_type": "execute_result"
    }
   ],
   "source": [
    "len(saved_history['max'])"
   ]
  },
  {
   "cell_type": "code",
   "execution_count": 7,
   "id": "abdd1a1e-2db3-4e56-94fe-0fecb45b6a4c",
   "metadata": {},
   "outputs": [
    {
     "name": "stderr",
     "output_type": "stream",
     "text": [
      "100%|████████████████████████████████████████| 21/21 [15:38<00:00, 44.70s/it]\n",
      "100%|████████████████████████████████████████| 21/21 [11:29<00:00, 32.84s/it]\n"
     ]
    }
   ],
   "source": [
    "for tag, history in saved_history.items():\n",
    "    for step, (G, H) in enumerate(tqdm.tqdm(history)):\n",
    "        percent = int(100 * step / (len(history) - 1))\n",
    "\n",
    "        #if percent % 25 != 0:\n",
    "        #    continue\n",
    "            \n",
    "        sh = vt.SHVisualizer(G, H)\n",
    "        fig = sh.visualize_field_lines(r=1.1, grid_density=40)\n",
    "\n",
    "        fig.update_layout(\n",
    "            title=dict(text=f\"{percent}%\", font=dict(size=50), automargin=True, yref='paper')\n",
    "        )\n",
    "        fig.write_image(f'{plot_dir}/{tag}_percent{percent:03d}_step{step}.png', width=800, height=600)\n",
    "        fig.data = []"
   ]
  }
 ],
 "metadata": {
  "kernelspec": {
   "display_name": "Python 3 (ipykernel)",
   "language": "python",
   "name": "python3"
  },
  "language_info": {
   "codemirror_mode": {
    "name": "ipython",
    "version": 3
   },
   "file_extension": ".py",
   "mimetype": "text/x-python",
   "name": "python",
   "nbconvert_exporter": "python",
   "pygments_lexer": "ipython3",
   "version": "3.11.13"
  }
 },
 "nbformat": 4,
 "nbformat_minor": 5
}
