{
 "cells": [
  {
   "cell_type": "code",
   "execution_count": 5,
   "id": "d0e30f9c",
   "metadata": {},
   "outputs": [],
   "source": [
    "import os\n",
    "\n",
    "os.environ['CUBLAS_WORKSPACE_CONFIG'] = ':4096:8'\n",
    "\n",
    "import dataset\n",
    "import visualization_tools as vt\n",
    "import generator as gen\n",
    "import importlib\n",
    "importlib.reload(gen)\n",
    "import torch\n",
    "import numpy as np\n",
    "import random\n",
    "import pylab as plt\n",
    "import tqdm\n",
    "\n",
    "torch.use_deterministic_algorithms(True)\n",
    "vt.OUTER_BOUNDARY = 2.5\n"
   ]
  },
  {
   "cell_type": "code",
   "execution_count": 2,
   "id": "600cccff-0b45-4487-af9a-619b1e3256b5",
   "metadata": {},
   "outputs": [],
   "source": [
    "def set_seeds(seed):\n",
    "    random.seed(seed)\n",
    "    np.random.seed(seed)\n",
    "    torch.manual_seed(seed)"
   ]
  },
  {
   "cell_type": "code",
   "execution_count": 3,
   "id": "f6bc23be-cabb-4263-9e6a-95b5601a64a3",
   "metadata": {},
   "outputs": [],
   "source": [
    "weights_file = \"checkpoints/experiment12-finer-rotations_4.pth\""
   ]
  },
  {
   "cell_type": "code",
   "execution_count": null,
   "id": "77d28d9a",
   "metadata": {},
   "outputs": [
    {
     "name": "stderr",
     "output_type": "stream",
     "text": [
      "Solar min: 100%|████████████████████████████████████████████████████████████████████████████████████████████████████████████████████████| 100/100 [48:46<00:00, 29.27s/it]\n",
      "Solar max:  95%|██████████████████████████████████████████████████████████████████████████████████████████████████████████████████▉      | 95/100 [33:38<01:44, 20.96s/it]"
     ]
    }
   ],
   "source": [
    "!rm ddpm_plots/*\n",
    "\n",
    "tasks = [(0, 'min', 'seed_helper_min.json'),\n",
    "         (1, 'max', 'seed_helper_max.json')]\n",
    "nitems = 100\n",
    "\n",
    "for radio_flux, tag, seed_helper in tasks:\n",
    "    for i in tqdm.tqdm(list(range(nitems)), desc=f'Solar {tag}'):\n",
    "        set_seeds(i)\n",
    "        G, H = gen.sample(weights_file=weights_file, radio_flux=radio_flux, method='ddim', seed_helper=seed_helper)\n",
    "        sh = vt.SHVisualizer(G, H)\n",
    "        fig = sh.visualize_field_lines(r=1.1, grid_density=20)\n",
    "        fig.write_image(f'ddpm_plots/{tag}_seed{i}.png', width=800, height=600)\n",
    "        fig.data = []"
   ]
  },
  {
   "cell_type": "markdown",
   "id": "8f5892c7-85eb-4b26-a1dc-81407e014a4a",
   "metadata": {},
   "source": [
    "# Current Sheet Plots"
   ]
  },
  {
   "cell_type": "markdown",
   "id": "60715108-6554-4d6d-b44a-3311b6ab4e5e",
   "metadata": {},
   "source": [
    "## Solar Minimum"
   ]
  }
 ],
 "metadata": {
  "kernelspec": {
   "display_name": "Python 3 (ipykernel)",
   "language": "python",
   "name": "python3"
  },
  "language_info": {
   "codemirror_mode": {
    "name": "ipython",
    "version": 3
   },
   "file_extension": ".py",
   "mimetype": "text/x-python",
   "name": "python",
   "nbconvert_exporter": "python",
   "pygments_lexer": "ipython3",
   "version": "3.11.13"
  }
 },
 "nbformat": 4,
 "nbformat_minor": 5
}
